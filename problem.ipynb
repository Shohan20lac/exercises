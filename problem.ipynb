{
 "cells": [
  {
   "cell_type": "code",
   "execution_count": 46,
   "metadata": {
    "dotnet_interactive": {
     "language": "fsharp"
    },
    "polyglot_notebook": {
     "kernelName": "fsharp"
    },
    "vscode": {
     "languageId": "fsharp"
    }
   },
   "outputs": [],
   "source": [
    "let isFactorOf (num: int) (factor: int): bool =\n",
    "    num % factor = 0\n",
    "\n",
    "let isDivisibleBy  (factor: int) (num: int): bool =\n",
    "    num % factor = 0\n",
    "        \n",
    "let cannotDivide (sequence: seq<int>) (factor:int): bool =\n",
    "    sequence\n",
    "    |> Seq.filter (isDivisibleBy factor)\n",
    "    |> Seq.isEmpty\n",
    "\n",
    "let rec factorsStartingFrom x n =\n",
    "    seq {\n",
    "\n",
    "        // Case 1: x is a factor of n\n",
    "        if n % x = 0 then\n",
    "            // case 1a: this is the last factor and we don't need to look further\n",
    "            if x = n/2 then\n",
    "                yield x\n",
    "            // case 1b: this is factor, but we also need to look further\n",
    "            else\n",
    "                yield x\n",
    "                yield! ( factorsStartingFrom n (x+1) )\n",
    "        \n",
    "        // Case 2: x is NOT a factor of n.\n",
    "        elif not ( x = n / 2 ) then\n",
    "            yield! ( factorsStartingFrom n (x+1) )\n",
    "    }"
   ]
  },
  {
   "cell_type": "code",
   "execution_count": 58,
   "metadata": {
    "dotnet_interactive": {
     "language": "fsharp"
    },
    "polyglot_notebook": {
     "kernelName": "fsharp"
    },
    "vscode": {
     "languageId": "fsharp"
    }
   },
   "outputs": [],
   "source": [
    "let isPrime (number: int): bool =\n",
    "    let sqrtnumber: int32 = number |> float |> sqrt |> int32\n",
    "    [2..sqrtnumber]\n",
    "    |> Seq.filter ( \n",
    "        fun x -> \n",
    "            number % x = 0 )\n",
    "    |> Seq.isEmpty\n",
    "\n",
    "let isPrime2 (x: int32) : bool =\n",
    "    let sqrtX: int32 = x |> float |> sqrt |> int32\n",
    "    [ 2 .. sqrtX ]\n",
    "    |> List.exists\n",
    "        (fun elem ->\n",
    "            match x % elem with\n",
    "            | 0 -> true\n",
    "            | _ -> false\n",
    "        )\n",
    "    |> not"
   ]
  },
  {
   "cell_type": "code",
   "execution_count": 69,
   "metadata": {
    "dotnet_interactive": {
     "language": "fsharp"
    },
    "polyglot_notebook": {
     "kernelName": "fsharp"
    },
    "vscode": {
     "languageId": "fsharp"
    }
   },
   "outputs": [],
   "source": [
    "let largestPrimeFactor_generateThenFilter (n: int32) =\n",
    "    [2..(n/2)]\n",
    "    |> Seq.filter ( isFactorOf n )\n",
    "    |> Seq.filter ( isPrime )\n",
    "    |> Seq.max\n",
    "\n",
    "let largestPrimeFactor_generateFiltered (n: int32) =\n",
    "    factorsStartingFrom 2 n\n",
    "    |> Seq.filter ( isFactorOf n )\n",
    "    |> Seq.filter ( isPrime )\n",
    "    |> Seq.max"
   ]
  },
  {
   "cell_type": "code",
   "execution_count": 66,
   "metadata": {
    "dotnet_interactive": {
     "language": "fsharp"
    },
    "polyglot_notebook": {
     "kernelName": "fsharp"
    },
    "vscode": {
     "languageId": "fsharp"
    }
   },
   "outputs": [
    {
     "name": "stdout",
     "output_type": "stream",
     "text": [
      "421\n",
      "1300.085100 ms\n"
     ]
    }
   ],
   "source": [
    "let stopWatch = System.Diagnostics.Stopwatch.StartNew()\n",
    "largestPrime_1 (6008514) |> printfn \"%i\"\n",
    "stopWatch.Stop()\n",
    "printfn \"%f ms\" stopWatch.Elapsed.TotalMilliseconds"
   ]
  },
  {
   "cell_type": "code",
   "execution_count": 73,
   "metadata": {
    "dotnet_interactive": {
     "language": "fsharp"
    },
    "polyglot_notebook": {
     "kernelName": "fsharp"
    },
    "vscode": {
     "languageId": "fsharp"
    }
   },
   "outputs": [],
   "source": [
    "let runAndTime x =\n",
    "    let stopWatch = System.Diagnostics.Stopwatch.StartNew()\n",
    "    x\n",
    "    stopWatch.Stop()\n",
    "    printfn \"%f ms\" stopWatch.Elapsed.TotalMilliseconds"
   ]
  },
  {
   "cell_type": "code",
   "execution_count": 74,
   "metadata": {
    "dotnet_interactive": {
     "language": "fsharp"
    },
    "polyglot_notebook": {
     "kernelName": "fsharp"
    },
    "vscode": {
     "languageId": "fsharp"
    }
   },
   "outputs": [
    {
     "name": "stderr",
     "output_type": "stream",
     "text": [
      "\n",
      "input.fsx (2,5)-(2,50) typecheck error This expression was expected to have type\n",
      "    'unit'    \n",
      "but here has type\n",
      "    'int'    \n",
      "\n",
      "input.fsx (2,5)-(2,50) typecheck error This expression was expected to have type\n",
      "    'unit'    \n",
      "but here has type\n",
      "    'int'    \n",
      "\n"
     ]
    },
    {
     "ename": "Error",
     "evalue": "compilation error",
     "output_type": "error",
     "traceback": []
    }
   ],
   "source": [
    "runAndTime (\n",
    "    largestPrimeFactor_generateThenFilter 6008514\n",
    ")"
   ]
  }
 ],
 "metadata": {
  "kernelspec": {
   "display_name": ".NET (F#)",
   "language": "F#",
   "name": ".net-fsharp"
  },
  "language_info": {
   "file_extension": ".fs",
   "mimetype": "text/x-fsharp",
   "name": "F#",
   "pygments_lexer": "fsharp",
   "version": "7.0"
  },
  "polyglot_notebook": {
   "kernelInfo": {
    "defaultKernelName": "csharp",
    "items": [
     {
      "aliases": [
       "c#",
       "C#"
      ],
      "languageName": "C#",
      "name": "csharp"
     },
     {
      "aliases": [],
      "name": ".NET"
     },
     {
      "aliases": [
       "f#",
       "F#"
      ],
      "languageName": "F#",
      "name": "fsharp"
     },
     {
      "aliases": [],
      "languageName": "HTML",
      "name": "html"
     },
     {
      "aliases": [],
      "languageName": "KQL",
      "name": "kql"
     },
     {
      "aliases": [],
      "languageName": "Mermaid",
      "name": "mermaid"
     },
     {
      "aliases": [
       "powershell"
      ],
      "languageName": "PowerShell",
      "name": "pwsh"
     },
     {
      "aliases": [],
      "languageName": "SQL",
      "name": "sql"
     },
     {
      "aliases": [],
      "name": "value"
     },
     {
      "aliases": [
       "frontend"
      ],
      "name": "vscode"
     }
    ]
   }
  }
 },
 "nbformat": 4,
 "nbformat_minor": 2
}
